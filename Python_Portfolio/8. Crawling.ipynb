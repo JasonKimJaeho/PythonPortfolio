{
 "cells": [
  {
   "cell_type": "markdown",
   "metadata": {},
   "source": [
    "## 정적 크롤링\n",
    "\n",
    "- EUC-KR : 한글 인코딩 완성형 방식. 현대 한글에서 많이 쓰이는 문자 2,350 개에 번호를 붙임.\n",
    "- CP949 : 11,720 개 한글 문자에 번호를 붙임. EUC-KR보다 나타낼 수 있는 한글의 갯수가 많아짐.\n",
    "- UTF-8 : 조합형 방식. 모음과 자음 각각에 코드를 부여. 한글 뿐 아니라 다양한 언어에 적용 가능. 대부분의 웹페이지에서 사용."
   ]
  },
  {
   "cell_type": "markdown",
   "metadata": {},
   "source": [
    "HTTP 요청 방식의 종류\n",
    "- GET ** : 특정 정보 조회\n",
    "- POST ** : 새로운 정보 등 / 크롬에서[F12] > 상단 network 탭 / body를 통해 전송되어 URL주소를 통해 변경사항이 확인되지 않음. 개발자 도구를 열어봐야 함.\n",
    "- PUT\n",
    "- DELETE"
   ]
  },
  {
   "cell_type": "markdown",
   "metadata": {},
   "source": [
    "HTTP 상태 코드\n",
    "- 1xx(Information): 요청이 수신되어 처리중\n",
    "- 2xx(Successful): 요청 정상 처리\n",
    "- 3xx(Redirection): 요청을 완료하려면 추가 행동 필요\n",
    "- 4xx(Client Error): 클라이언트 오류, 잘못된 문법 등으로 서버가 요청을 수행할 수 없음.\n",
    "- 5xx(Server Error): 서버 오류, 서버가 정상 요청을 처리하지 못함."
   ]
  },
  {
   "cell_type": "markdown",
   "metadata": {},
   "source": [
    "HTML과 CSS\n",
    "- https://www.w3schools.com/html/tryit.asp?filename=tryhtml_intro\n"
   ]
  },
  {
   "cell_type": "markdown",
   "metadata": {},
   "source": [
    "### 금융 속보 크롤링"
   ]
  },
  {
   "cell_type": "code",
   "execution_count": 2,
   "metadata": {},
   "outputs": [
    {
     "data": {
      "text/plain": [
       "[<a href=\"/news/news_read.naver?article_id=0004957532&amp;office_id=008&amp;mode=LSS2D&amp;type=0§ion_id=101§ion_id2=258§ion_id3=&amp;date=20231103&amp;page=1\" title=\"11월까지 4개월 연속 하락, 77년간 없었다…랠리를 믿는 이유[오미주]\">11월까지 4개월 연속 하락, 77년간 없었다…랠리를 믿는 이유[오미주]</a>,\n",
       " <a href=\"/news/news_read.naver?article_id=0005611899&amp;office_id=018&amp;mode=LSS2D&amp;type=0§ion_id=101§ion_id2=258§ion_id3=&amp;date=20231103&amp;page=1\" title=\"공매도 ‘6개월’ 전면금지하나…금융위 “확정 아냐”\">공매도 ‘6개월’ 전면금지하나…금융위 “확정 아냐”</a>,\n",
       " <a href=\"/news/news_read.naver?article_id=0000768426&amp;office_id=469&amp;mode=LSS2D&amp;type=0§ion_id=101§ion_id2=258§ion_id3=&amp;date=20231103&amp;page=1\" title=\"카드론 안 내주는 카드사들... 리볼빙으로 몰리는 서민\">카드론 안 내주는 카드사들... 리볼빙으로 몰리는 서민</a>,\n",
       " <a href=\"/news/news_read.naver?article_id=0004957528&amp;office_id=008&amp;mode=LSS2D&amp;type=0§ion_id=101§ion_id2=258§ion_id3=&amp;date=20231103&amp;page=1\" title=\"고령군 축산물공판장 냉동창고서 '액화암모니아' 누출…인명피해 無\">고령군 축산물공판장 냉동창고서 '액화암모니아' 누출…인명피해 無</a>,\n",
       " <a href=\"/news/news_read.naver?article_id=0004910218&amp;office_id=015&amp;mode=LSS2D&amp;type=0§ion_id=101§ion_id2=258§ion_id3=&amp;date=20231103&amp;page=1\" title=\"7연속 하한가 영풍제지…'천하제일 단타대회' 열렸다\">7연속 하한가 영풍제지…'천하제일 단타대회' 열렸다</a>]"
      ]
     },
     "execution_count": 2,
     "metadata": {},
     "output_type": "execute_result"
    }
   ],
   "source": [
    "import requests as rq\n",
    "from bs4 import BeautifulSoup # HTML 정보를 BeautifulSoup 객체로 만든다.\n",
    "\n",
    "url = 'https://finance.naver.com/news/news_list.nhn?mode=LSS2D&section_id=101&section_id2=258'\n",
    "data = rq.get(url)\n",
    "html = BeautifulSoup(data.content, 'html.parser')\n",
    "html_select = html.select('dl > dd.articleSubject > a')\n",
    "\n",
    "html_select[0:5]"
   ]
  },
  {
   "cell_type": "code",
   "execution_count": 3,
   "metadata": {},
   "outputs": [
    {
     "data": {
      "text/plain": [
       "'11월까지 4개월 연속 하락, 77년간 없었다…랠리를 믿는 이유[오미주]'"
      ]
     },
     "execution_count": 3,
     "metadata": {},
     "output_type": "execute_result"
    }
   ],
   "source": [
    "html_select[0]['title']"
   ]
  },
  {
   "cell_type": "code",
   "execution_count": 4,
   "metadata": {},
   "outputs": [
    {
     "data": {
      "text/plain": [
       "['11월까지 4개월 연속 하락, 77년간 없었다…랠리를 믿는 이유[오미주]',\n",
       " '공매도 ‘6개월’ 전면금지하나…금융위 “확정 아냐”',\n",
       " '카드론 안 내주는 카드사들... 리볼빙으로 몰리는 서민',\n",
       " \"고령군 축산물공판장 냉동창고서 '액화암모니아' 누출…인명피해 無\",\n",
       " \"7연속 하한가 영풍제지…'천하제일 단타대회' 열렸다\",\n",
       " '불거지는 황현순 키움證 대표 해임설…회사는 \"정해진 바 없다\"',\n",
       " '대유에이텍 몽베르CC, 동화그룹에 3000억원대 매각',\n",
       " \"[속보] '사기 혐의' 전청조 구속영장 발부\",\n",
       " '‘영풍제지 미수금 사태’ 휘말린 키움증권, 황현순 사장 해임 결정',\n",
       " '거래소, 쏘닉스 코스닥시장 신규 상장',\n",
       " \"키움證 사장 해임키로 내부 결정한 듯…'영풍제지 미수금 사태' 책임\",\n",
       " '한샘, 3분기 영업익 49억원…흑자 전환',\n",
       " '캡스톤파트너스, 공모가 상단 초과 4000원 확정… 경쟁률 952대 1']"
      ]
     },
     "execution_count": 4,
     "metadata": {},
     "output_type": "execute_result"
    }
   ],
   "source": [
    "[i['title'] for i in html_select]"
   ]
  },
  {
   "cell_type": "markdown",
   "metadata": {},
   "source": [
    "### 테이블 크롤링 하기"
   ]
  },
  {
   "cell_type": "code",
   "execution_count": 6,
   "metadata": {},
   "outputs": [
    {
     "data": {
      "text/html": [
       "<div>\n",
       "<style scoped>\n",
       "    .dataframe tbody tr th:only-of-type {\n",
       "        vertical-align: middle;\n",
       "    }\n",
       "\n",
       "    .dataframe tbody tr th {\n",
       "        vertical-align: top;\n",
       "    }\n",
       "\n",
       "    .dataframe thead th {\n",
       "        text-align: right;\n",
       "    }\n",
       "</style>\n",
       "<table border=\"1\" class=\"dataframe\">\n",
       "  <thead>\n",
       "    <tr style=\"text-align: right;\">\n",
       "      <th></th>\n",
       "      <th>Country</th>\n",
       "      <th>Total market cap (in mil. US$)[2]</th>\n",
       "      <th>Total market cap (% of GDP)[3]</th>\n",
       "      <th>Number of domestic companies listed[4]</th>\n",
       "      <th>Year</th>\n",
       "    </tr>\n",
       "  </thead>\n",
       "  <tbody>\n",
       "    <tr>\n",
       "      <th>0</th>\n",
       "      <td>United States</td>\n",
       "      <td>44719661</td>\n",
       "      <td>194.5</td>\n",
       "      <td>4266</td>\n",
       "      <td>2020</td>\n",
       "    </tr>\n",
       "    <tr>\n",
       "      <th>1</th>\n",
       "      <td>China</td>\n",
       "      <td>13214311</td>\n",
       "      <td>83.0</td>\n",
       "      <td>4154</td>\n",
       "      <td>2020</td>\n",
       "    </tr>\n",
       "    <tr>\n",
       "      <th>2</th>\n",
       "      <td>Japan</td>\n",
       "      <td>6718220</td>\n",
       "      <td>122.2</td>\n",
       "      <td>3754</td>\n",
       "      <td>2020</td>\n",
       "    </tr>\n",
       "    <tr>\n",
       "      <th>3</th>\n",
       "      <td>Hong Kong</td>\n",
       "      <td>6130420</td>\n",
       "      <td>1768.8</td>\n",
       "      <td>2353</td>\n",
       "      <td>2020</td>\n",
       "    </tr>\n",
       "    <tr>\n",
       "      <th>4</th>\n",
       "      <td>India</td>\n",
       "      <td>3,612,985[5]</td>\n",
       "      <td>103.0</td>\n",
       "      <td>5270</td>\n",
       "      <td>2023</td>\n",
       "    </tr>\n",
       "  </tbody>\n",
       "</table>\n",
       "</div>"
      ],
      "text/plain": [
       "         Country Total market cap (in mil. US$)[2]  \\\n",
       "0  United States                          44719661   \n",
       "1          China                          13214311   \n",
       "2          Japan                           6718220   \n",
       "3      Hong Kong                           6130420   \n",
       "4          India                      3,612,985[5]   \n",
       "\n",
       "   Total market cap (% of GDP)[3] Number of domestic companies listed[4]  Year  \n",
       "0                           194.5                                   4266  2020  \n",
       "1                            83.0                                   4154  2020  \n",
       "2                           122.2                                   3754  2020  \n",
       "3                          1768.8                                   2353  2020  \n",
       "4                           103.0                                   5270  2023  "
      ]
     },
     "execution_count": 6,
     "metadata": {},
     "output_type": "execute_result"
    }
   ],
   "source": [
    "import pandas as pd\n",
    "\n",
    "url = 'https://en.wikipedia.org/wiki/List_of_countries_by_stock_market_capitalization'\n",
    "tbl = pd.read_html(url)\n",
    "\n",
    "tbl[0].head()"
   ]
  },
  {
   "cell_type": "code",
   "execution_count": 11,
   "metadata": {},
   "outputs": [
    {
     "data": {
      "text/html": [
       "<div>\n",
       "<style scoped>\n",
       "    .dataframe tbody tr th:only-of-type {\n",
       "        vertical-align: middle;\n",
       "    }\n",
       "\n",
       "    .dataframe tbody tr th {\n",
       "        vertical-align: top;\n",
       "    }\n",
       "\n",
       "    .dataframe thead th {\n",
       "        text-align: right;\n",
       "    }\n",
       "</style>\n",
       "<table border=\"1\" class=\"dataframe\">\n",
       "  <thead>\n",
       "    <tr style=\"text-align: right;\">\n",
       "      <th></th>\n",
       "      <th>Year</th>\n",
       "      <th>World market cap (in mil. US$)</th>\n",
       "      <th>World market cap (% of GDP)</th>\n",
       "      <th>Number of listed companies</th>\n",
       "    </tr>\n",
       "  </thead>\n",
       "  <tbody>\n",
       "    <tr>\n",
       "      <th>0</th>\n",
       "      <td>1975</td>\n",
       "      <td>1149245</td>\n",
       "      <td>27.2</td>\n",
       "      <td>14577.0</td>\n",
       "    </tr>\n",
       "    <tr>\n",
       "      <th>1</th>\n",
       "      <td>1980</td>\n",
       "      <td>2525736</td>\n",
       "      <td>29.6</td>\n",
       "      <td>17273.0</td>\n",
       "    </tr>\n",
       "    <tr>\n",
       "      <th>2</th>\n",
       "      <td>1985</td>\n",
       "      <td>4684978</td>\n",
       "      <td>47.0</td>\n",
       "      <td>20555.0</td>\n",
       "    </tr>\n",
       "    <tr>\n",
       "      <th>3</th>\n",
       "      <td>1990</td>\n",
       "      <td>9519107</td>\n",
       "      <td>50.8</td>\n",
       "      <td>23732.0</td>\n",
       "    </tr>\n",
       "    <tr>\n",
       "      <th>4</th>\n",
       "      <td>1991</td>\n",
       "      <td>11340785</td>\n",
       "      <td>56.8</td>\n",
       "      <td>24666.0</td>\n",
       "    </tr>\n",
       "  </tbody>\n",
       "</table>\n",
       "</div>"
      ],
      "text/plain": [
       "   Year  World market cap (in mil. US$)  World market cap (% of GDP)  \\\n",
       "0  1975                         1149245                         27.2   \n",
       "1  1980                         2525736                         29.6   \n",
       "2  1985                         4684978                         47.0   \n",
       "3  1990                         9519107                         50.8   \n",
       "4  1991                        11340785                         56.8   \n",
       "\n",
       "   Number of listed companies  \n",
       "0                     14577.0  \n",
       "1                     17273.0  \n",
       "2                     20555.0  \n",
       "3                     23732.0  \n",
       "4                     24666.0  "
      ]
     },
     "execution_count": 11,
     "metadata": {},
     "output_type": "execute_result"
    }
   ],
   "source": [
    "tbl[1].head()"
   ]
  },
  {
   "cell_type": "markdown",
   "metadata": {},
   "source": [
    "### 기업 공시 채널에서 오늘의 공시 불러오기"
   ]
  },
  {
   "cell_type": "code",
   "execution_count": 12,
   "metadata": {},
   "outputs": [
    {
     "name": "stdout",
     "output_type": "stream",
     "text": [
      "\n",
      "<section class=\"scrarea type-00\">\n",
      "<table class=\"list type-00 mt10\" summary=\"시간, 회사명, 공시제목, 제출인, 차트/주가\">\n",
      "<caption>목록</caption>\n",
      "<colgroup>\n",
      "<col width=\"9%\"/>\n",
      "<col width=\"22%\"/>\n",
      "<col width=\"*\"/>\n",
      "<col width=\"16%\"/>\n",
      "<col width=\"9%\"/>\n",
      "</colgroup>\n",
      "<thead>\n",
      "<tr class=\"first active\" id=\"title-contents\">\n",
      "</tr>\n",
      "</thead>\n",
      "<tbody>\n",
      "<tr class=\"first\" id=\"parkman\">\n",
      "<td class=\"first txc\">19:42</td>\n",
      "<td><img alt=\"코스닥\" class=\"vmiddle legend\" src=\"/images/common/icn_t_ko.gif\"/> <a href=\"#companysum\" id=\"companysum\" onclick=\"companysummary_open('05198'); return false;\" title=\"중앙첨단소재\"> 중앙첨단소재</a> <img alt=\"투자주의환기종목\" class=\"vmiddle legend\" src=\"/images/common/icn_t_hwan.gif\"/> </td>\n",
      "<td><a href=\"#viewer\" onclick=\"openDisclsViewer('20230131000891','')\" title=\"최대주주 변경을 수반하는 주식 담보제공 계약 체결\">최대주주 변경을 수반하는 주식 담보제공 계약 체결</a></td>\n",
      "<td>중앙첨단소재</td>\n",
      "<td class=\"txc\">\n",
      "<a class=\"btn ico chart-00\" href=\"#\" onclick=\"openDisclsChart('05198');return false;\" title=\"공시차트\"><span>공시차트</span></a>\n",
      "<a class=\"btn ico chart-01\" href=\"#\" onclick=\"fnPopStockPrices('05198');return false;\" title=\"주가차트\"><span>주가차트</span></a>\n",
      "</td>\n",
      "</tr>\n",
      "<tr id=\"parkman\">\n",
      "<td class=\"first txc\">19:23</td>\n",
      "<td><img alt=\"코스닥\" class=\"vmiddle legend\" src=\"/images/common/icn_t_ko.gif\"/> <a href=\"#companysum\" id=\"companysum\" onclick=\"companysummary_open('26962'); return false;\" title=\"시스웍\"> 시스웍</a> <img alt=\"관리종목\" class=\"vmiddle legend\" src=\"/images/common/icn_t_kwan.gif\"> <img alt=\"투자주의환기종목\" class=\"vmiddle legend\" src=\"/images/common/icn_t_hwan.gif\"/> </img></td>\n",
      "<td><a href=\"#viewer\" onclick=\"openDisclsViewer('20230131000888','')\" title=\"횡령ㆍ배임혐의발생\">횡령ㆍ배임혐의발생</a></td>\n",
      "<td>시스웍</td>\n",
      "<td class=\"txc\">\n",
      "<a class=\"btn ico chart-00\" href=\"#\" onclick=\"openDisclsChart('26962');return false;\" title=\"공시차트\"><span>공시차트</span></a>\n",
      "<a class=\"btn ico chart-01\" href=\"#\" onclick=\"fnPopStockPrices('26962');return false;\" title=\"주가차트\"><span>주가차트</span></a>\n",
      "</td>\n",
      "</tr>\n",
      "<tr id=\"parkman\">\n",
      "<td class=\"first txc\">19:20</td>\n",
      "<td><img alt=\"코스닥\" class=\"vmiddle legend\" src=\"/images/common/icn_t_ko.gif\"/> <a href=\"#companysum\" id=\"companysum\" onclick=\"companysummary_open('05788'); return false;\" title=\"피에이치씨\"> 피에이치씨</a> <img alt=\"관리종목\" class=\"vmiddle legend\" src=\"/images/common/icn_t_kwan.gif\"> <img alt=\"투자주의환기종목\" class=\"vmiddle legend\" src=\"/images/common/icn_t_hwan.gif\"/> </img></td>\n",
      "<td><a href=\"#viewer\" onclick=\"openDisclsViewer('20230131000889','')\" title=\"횡령ㆍ배임혐의발생\">횡령ㆍ배임혐의발생</a></td>\n",
      "<td>피에이치씨</td>\n",
      "<td class=\"txc\">\n",
      "<a class=\"btn ico chart-00\" href=\"#\" onclick=\"openDisclsChart('05788');return false;\" title=\"공시차트\"><span>공시차트</span></a>\n",
      "<a class=\"btn ico chart-01\" href=\"#\" onclick=\"fnPopStockPrices('05788');return false;\" title=\"주가차트\"><span>주가차트</span></a>\n",
      "</td>\n",
      "</tr>\n",
      "<tr id=\"parkman\">\n",
      "<td class=\"first txc\">19:03</td>\n",
      "<td><img alt=\"코스닥\" class=\"vmiddle legend\" src=\"/images/common/icn_t_ko.gif\"/> <a href=\"#companysum\" id=\"companysum\" onclick=\"companysummary_open('16609'); return false;\" title=\"하나머티리얼즈\"> 하나머티리얼즈</a> <img alt=\"KOSDAQ150\" class=\"vmiddle legend\" src=\"/images/common/icn_t_q150.gif\"/> <img alt=\"KRX300\" class=\"vmiddle legend\" src=\"/images/common/icn_t_x300.gif\"/> </td>\n",
      "<td><a href=\"#viewer\" onclick=\"openDisclsViewer('20230131000885','')\" title=\"최대주주 변경을 수반하는 주식 담보제공 계약 체결\">최대주주 변경을 수반하는 주식 담보제공 계약 체결 <img alt=\"해당보고서 이후에 정정된 보고서 있음\" class=\"vmiddle legend\" src=\"/images/common/icn_t_jung.gif\"/></a></td>\n",
      "<td>하나머티리얼즈</td>\n",
      "<td class=\"txc\">\n",
      "<a class=\"btn ico chart-00\" href=\"#\" onclick=\"openDisclsChart('16609');return false;\" title=\"공시차트\"><span>공시차트</span></a>\n",
      "<a class=\"btn ico chart-01\" href=\"#\" onclick=\"fnPopStockPrices('16609');return false;\" title=\"주가차트\"><span>주가차트</span></a>\n",
      "</td>\n",
      "</tr>\n",
      "<tr id=\"parkman\">\n",
      "<td class=\"first txc\">18:53</td>\n",
      "<td><img alt=\"코스닥\" class=\"vmiddle legend\" src=\"/images/common/icn_t_ko.gif\"/> <a href=\"#companysum\" id=\"companysum\" onclick=\"companysummary_open('20886'); return false;\" title=\"엔지스테크널러지\"> 엔지스테크널러지</a> <img alt=\"관리종목\" class=\"vmiddle legend\" src=\"/images/common/icn_t_kwan.gif\"> <img alt=\"투자주의환기종목\" class=\"vmiddle legend\" src=\"/images/common/icn_t_hwan.gif\"/> </img></td>\n",
      "<td><a href=\"#viewer\" onclick=\"openDisclsViewer('20230131000882','')\" title=\"기타시장안내(감사의견 관련 형식적 상장폐지 사유해소 및 매매거래정지 지속안내)\">기타시장안내(감사의견 관련 형식적 상장폐지 사유해소 및 매매거래정지 지속안내)</a></td>\n",
      "<td>코스닥시장본부</td>\n",
      "<td class=\"txc\">\n",
      "<a class=\"btn ico chart-00\" href=\"#\" onclick=\"openDisclsChart('20886');return false;\" title=\"공시차트\"><span>공시차트</span></a>\n",
      "<a class=\"btn ico chart-01\" href=\"#\" onclick=\"fnPopStockPrices('20886');return false;\" title=\"주가차트\"><span>주가차트</span></a>\n",
      "</td>\n",
      "</tr>\n",
      "<tr id=\"parkman\">\n",
      "<td class=\"first txc\">18:50</td>\n",
      "<td><img alt=\"코스닥\" class=\"vmiddle legend\" src=\"/images/common/icn_t_ko.gif\"/> <a href=\"#companysum\" id=\"companysum\" onclick=\"companysummary_open('20886'); return false;\" title=\"엔지스테크널러지\"> 엔지스테크널러지</a> <img alt=\"관리종목\" class=\"vmiddle legend\" src=\"/images/common/icn_t_kwan.gif\"> <img alt=\"투자주의환기종목\" class=\"vmiddle legend\" src=\"/images/common/icn_t_hwan.gif\"/> </img></td>\n",
      "<td><a href=\"#viewer\" onclick=\"openDisclsViewer('20230131000880','')\" title=\"주권매매거래정지기간변경(상장폐지 사유 해소)\">주권매매거래정지기간변경(상장폐지 사유 해소)</a></td>\n",
      "<td>코스닥시장본부</td>\n",
      "<td class=\"txc\">\n",
      "<a class=\"btn ico chart-00\" href=\"#\" onclick=\"openDisclsChart('20886');return false;\" title=\"공시차트\"><span>공시차트</span></a>\n",
      "<a class=\"btn ico chart-01\" href=\"#\" onclick=\"fnPopStockPrices('20886');return false;\" title=\"주가차트\"><span>주가차트</span></a>\n",
      "</td>\n",
      "</tr>\n",
      "<tr id=\"parkman\">\n",
      "<td class=\"first txc\">18:49</td>\n",
      "<td><img alt=\"코스닥\" class=\"vmiddle legend\" src=\"/images/common/icn_t_ko.gif\"/> <a href=\"#companysum\" id=\"companysum\" onclick=\"companysummary_open('20886'); return false;\" title=\"엔지스테크널러지\"> 엔지스테크널러지</a> <img alt=\"관리종목\" class=\"vmiddle legend\" src=\"/images/common/icn_t_kwan.gif\"> <img alt=\"투자주의환기종목\" class=\"vmiddle legend\" src=\"/images/common/icn_t_hwan.gif\"/> </img></td>\n",
      "<td><a href=\"#viewer\" onclick=\"openDisclsViewer('20230131000879','')\" title=\"투자주의환기종목지정사유추가(코스닥시장 상장규정 개정)\">투자주의환기종목지정사유추가(코스닥시장 상장규정 개정)</a></td>\n",
      "<td>코스닥시장본부</td>\n",
      "<td class=\"txc\">\n",
      "<a class=\"btn ico chart-00\" href=\"#\" onclick=\"openDisclsChart('20886');return false;\" title=\"공시차트\"><span>공시차트</span></a>\n",
      "<a class=\"btn ico chart-01\" href=\"#\" onclick=\"fnPopStockPrices('20886');return false;\" title=\"주가차트\"><span>주가차트</span></a>\n",
      "</td>\n",
      "</tr>\n",
      "<tr id=\"parkman\">\n",
      "<td class=\"first txc\">18:48</td>\n",
      "<td><img alt=\"코스닥\" class=\"vmiddle legend\" src=\"/images/common/icn_t_ko.gif\"/> <a href=\"#companysum\" id=\"companysum\" onclick=\"companysummary_open('20886'); return false;\" title=\"엔지스테크널러지\"> 엔지스테크널러지</a> <img alt=\"관리종목\" class=\"vmiddle legend\" src=\"/images/common/icn_t_kwan.gif\"> <img alt=\"투자주의환기종목\" class=\"vmiddle legend\" src=\"/images/common/icn_t_hwan.gif\"/> </img></td>\n",
      "<td><a href=\"#viewer\" onclick=\"openDisclsViewer('20230131000878','')\" title=\"관리종목 해제(상장폐지 사유 해소 등)\">관리종목 해제(상장폐지 사유 해소 등)</a></td>\n",
      "<td>코스닥시장본부</td>\n",
      "<td class=\"txc\">\n",
      "<a class=\"btn ico chart-00\" href=\"#\" onclick=\"openDisclsChart('20886');return false;\" title=\"공시차트\"><span>공시차트</span></a>\n",
      "<a class=\"btn ico chart-01\" href=\"#\" onclick=\"fnPopStockPrices('20886');return false;\" title=\"주가차트\"><span>주가차트</span></a>\n",
      "</td>\n",
      "</tr>\n",
      "<tr id=\"parkman\">\n",
      "<td class=\"first txc\">18:47</td>\n",
      "<td><img alt=\"코스닥\" class=\"vmiddle legend\" src=\"/images/common/icn_t_ko.gif\"/> <a href=\"#companysum\" id=\"companysum\" onclick=\"companysummary_open('26354'); return false;\" title=\"어스앤에어로스페이스\"> 어스앤에어로스페이스</a> <img alt=\"관리종목\" class=\"vmiddle legend\" src=\"/images/common/icn_t_kwan.gif\"> <img alt=\"투자주의환기종목\" class=\"vmiddle legend\" src=\"/images/common/icn_t_hwan.gif\"/> </img></td>\n",
      "<td><a href=\"#viewer\" onclick=\"openDisclsViewer('20230131000875','')\" title=\"감자완료\">감자완료</a></td>\n",
      "<td>어스앤에어로스페이스</td>\n",
      "<td class=\"txc\">\n",
      "<a class=\"btn ico chart-00\" href=\"#\" onclick=\"openDisclsChart('26354');return false;\" title=\"공시차트\"><span>공시차트</span></a>\n",
      "<a class=\"btn ico chart-01\" href=\"#\" onclick=\"fnPopStockPrices('26354');return false;\" title=\"주가차트\"><span>주가차트</span></a>\n",
      "</td>\n",
      "</tr>\n",
      "<tr id=\"parkman\">\n",
      "<td class=\"first txc\">18:29</td>\n",
      "<td><img alt=\"코스닥\" class=\"vmiddle legend\" src=\"/images/common/icn_t_ko.gif\"/> <a href=\"#companysum\" id=\"companysum\" onclick=\"companysummary_open('06037'); return false;\" title=\"LS마린솔루션\"> LS마린솔루션</a> </td>\n",
      "<td><a href=\"#viewer\" onclick=\"openDisclsViewer('20230131000874','')\" title=\"유형자산 양수 결정\">유형자산 양수 결정</a></td>\n",
      "<td>엘에스마린솔루션</td>\n",
      "<td class=\"txc\">\n",
      "<a class=\"btn ico chart-00\" href=\"#\" onclick=\"openDisclsChart('06037');return false;\" title=\"공시차트\"><span>공시차트</span></a>\n",
      "<a class=\"btn ico chart-01\" href=\"#\" onclick=\"fnPopStockPrices('06037');return false;\" title=\"주가차트\"><span>주가차트</span></a>\n",
      "</td>\n",
      "</tr>\n",
      "<tr id=\"parkman\">\n",
      "<td class=\"first txc\">18:21</td>\n",
      "<td><img alt=\"코스닥\" class=\"vmiddle legend\" src=\"/images/common/icn_t_ko.gif\"/> <a href=\"#companysum\" id=\"companysum\" onclick=\"companysummary_open('26860'); return false;\" title=\"셀리버리\"> 셀리버리</a> <img alt=\"관리종목\" class=\"vmiddle legend\" src=\"/images/common/icn_t_kwan.gif\"> <img alt=\"투자주의환기종목\" class=\"vmiddle legend\" src=\"/images/common/icn_t_hwan.gif\"/> </img></td>\n",
      "<td><a href=\"#viewer\" onclick=\"openDisclsViewer('20230131000866','')\" title=\"공매도 과열종목 지정(공매도 거래 금지 적용)\">공매도 과열종목 지정(공매도 거래 금지 적용)</a></td>\n",
      "<td>코스닥시장본부</td>\n",
      "<td class=\"txc\">\n",
      "<a class=\"btn ico chart-00\" href=\"#\" onclick=\"openDisclsChart('26860');return false;\" title=\"공시차트\"><span>공시차트</span></a>\n",
      "<a class=\"btn ico chart-01\" href=\"#\" onclick=\"fnPopStockPrices('26860');return false;\" title=\"주가차트\"><span>주가차트</span></a>\n",
      "</td>\n",
      "</tr>\n",
      "<tr id=\"parkman\">\n",
      "<td class=\"first txc\">18:21</td>\n",
      "<td><img alt=\"코스닥\" class=\"vmiddle legend\" src=\"/images/common/icn_t_ko.gif\"/> <a href=\"#companysum\" id=\"companysum\" onclick=\"companysummary_open('02210'); return false;\" title=\"포스코DX\"> 포스코DX</a> <img alt=\"KOSDAQ150\" class=\"vmiddle legend\" src=\"/images/common/icn_t_q150.gif\"/> <img alt=\"KRX300\" class=\"vmiddle legend\" src=\"/images/common/icn_t_x300.gif\"/> </td>\n",
      "<td><a href=\"#viewer\" onclick=\"openDisclsViewer('20230131000865','')\" title=\"공매도 과열종목 지정(공매도 거래 금지 적용)\">공매도 과열종목 지정(공매도 거래 금지 적용)</a></td>\n",
      "<td>코스닥시장본부</td>\n",
      "<td class=\"txc\">\n",
      "<a class=\"btn ico chart-00\" href=\"#\" onclick=\"openDisclsChart('02210');return false;\" title=\"공시차트\"><span>공시차트</span></a>\n",
      "<a class=\"btn ico chart-01\" href=\"#\" onclick=\"fnPopStockPrices('02210');return false;\" title=\"주가차트\"><span>주가차트</span></a>\n",
      "</td>\n",
      "</tr>\n",
      "<tr id=\"parkman\">\n",
      "<td class=\"first txc\">18:17</td>\n",
      "<td><img alt=\"코스닥\" class=\"vmiddle legend\" src=\"/images/common/icn_t_ko.gif\"/> <a href=\"#companysum\" id=\"companysum\" onclick=\"companysummary_open('26354'); return false;\" title=\"어스앤에어로스페이스\"> 어스앤에어로스페이스</a> <img alt=\"관리종목\" class=\"vmiddle legend\" src=\"/images/common/icn_t_kwan.gif\"> <img alt=\"투자주의환기종목\" class=\"vmiddle legend\" src=\"/images/common/icn_t_hwan.gif\"/> </img></td>\n",
      "<td><a href=\"#viewer\" onclick=\"openDisclsViewer('20230131000862','')\" title=\"단기차입금증가결정\">단기차입금증가결정</a></td>\n",
      "<td>어스앤에어로스페이스</td>\n",
      "<td class=\"txc\">\n",
      "<a class=\"btn ico chart-00\" href=\"#\" onclick=\"openDisclsChart('26354');return false;\" title=\"공시차트\"><span>공시차트</span></a>\n",
      "<a class=\"btn ico chart-01\" href=\"#\" onclick=\"fnPopStockPrices('26354');return false;\" title=\"주가차트\"><span>주가차트</span></a>\n",
      "</td>\n",
      "</tr>\n",
      "<tr id=\"parkman\">\n",
      "<td class=\"first txc\">18:16</td>\n",
      "<td><img alt=\"코스닥\" class=\"vmiddle legend\" src=\"/images/common/icn_t_ko.gif\"/> <a href=\"#companysum\" id=\"companysum\" onclick=\"companysummary_open('19241'); return false;\" title=\"휴림네트웍스\"> 휴림네트웍스</a> </td>\n",
      "<td><a href=\"#viewer\" onclick=\"openDisclsViewer('20230131000867','')\" title=\"타법인주식및출자증권취득결정\"><font color=\"#FF8040\">[정정]</font>타법인주식및출자증권취득결정</a></td>\n",
      "<td>휴림네트웍스</td>\n",
      "<td class=\"txc\">\n",
      "<a class=\"btn ico chart-00\" href=\"#\" onclick=\"openDisclsChart('19241');return false;\" title=\"공시차트\"><span>공시차트</span></a>\n",
      "<a class=\"btn ico chart-01\" href=\"#\" onclick=\"fnPopStockPrices('19241');return false;\" title=\"주가차트\"><span>주가차트</span></a>\n",
      "</td>\n",
      "</tr>\n",
      "<tr id=\"parkman\">\n",
      "<td class=\"first txc\">18:16</td>\n",
      "<td><img alt=\"코스닥\" class=\"vmiddle legend\" src=\"/images/common/icn_t_ko.gif\"/> <a href=\"#companysum\" id=\"companysum\" onclick=\"companysummary_open('06731'); return false;\" title=\"하나마이크론\"> 하나마이크론</a> <img alt=\"KOSDAQ150\" class=\"vmiddle legend\" src=\"/images/common/icn_t_q150.gif\"/> </td>\n",
      "<td><a href=\"#viewer\" onclick=\"openDisclsViewer('20230131000868','')\" title=\"타인에대한담보제공결정\">타인에대한담보제공결정</a></td>\n",
      "<td>하나마이크론</td>\n",
      "<td class=\"txc\">\n",
      "<a class=\"btn ico chart-00\" href=\"#\" onclick=\"openDisclsChart('06731');return false;\" title=\"공시차트\"><span>공시차트</span></a>\n",
      "<a class=\"btn ico chart-01\" href=\"#\" onclick=\"fnPopStockPrices('06731');return false;\" title=\"주가차트\"><span>주가차트</span></a>\n",
      "</td>\n",
      "</tr>\n",
      "</tbody>\n",
      "</table>\n",
      "</section>\n",
      "<!-- 페이징 START -->\n",
      "<section class=\"paging-group\">\n",
      "<div class=\"paging type-00\"><a class=\"pprev\" href=\"#prevPage10\" onclick=\"return false;\"><span>이전10개 페이지</span></a><a class=\"prev\" href=\"#prevPage\" onclick=\"return false;\"><span>이전 페이지</span></a>\n",
      "<a class=\"active\" href=\"#page_link_1\" onclick=\"return false;\">1</a><a href=\"#page_link_2\" onclick=\"fnPageGo('2');return false;\">2</a><a href=\"#page_link_3\" onclick=\"fnPageGo('3');return false;\">3</a><a href=\"#page_link_4\" onclick=\"fnPageGo('4');return false;\">4</a><a href=\"#page_link_5\" onclick=\"fnPageGo('5');return false;\">5</a><a href=\"#page_link_6\" onclick=\"fnPageGo('6');return false;\">6</a><a href=\"#page_link_7\" onclick=\"fnPageGo('7');return false;\">7</a><a href=\"#page_link_8\" onclick=\"fnPageGo('8');return false;\">8</a><a href=\"#page_link_9\" onclick=\"fnPageGo('9');return false;\">9</a><a href=\"#page_link_10\" onclick=\"fnPageGo('10');return false;\">10</a>\n",
      "<a class=\"next\" href=\"#nextPage\" onclick=\"fnPageGo('2');return false;\"><span>다음 페이지</span></a><a class=\"nnext\" href=\"#nextPage10\" onclick=\"fnPageGo('11');return false;\"><span>다음10개 페이지</span></a></div><div class=\"info type-00\">\n",
      "전체 <em>490</em>건 : <strong>1</strong>/33   \n",
      "<select id=\"currentPageSize\" name=\"currentPageSize\">\n",
      "<option selected=\"selected\" value=\"15\">15건</option>\n",
      "<option value=\"30\">30건</option>\n",
      "<option value=\"50\">50건</option>\n",
      "<option value=\"100\">100건</option>\n",
      "</select>  <a class=\"btn-sprite btn-go vmiddle\" href=\"#\" onclick=\"fnSearch1();return false;\" title=\"GO\"><span>GO</span></a>\n",
      "</div>\n",
      "</section>\n",
      "<!-- 페이징 END -->\n",
      "<script type=\"text/JavaScript\">\n",
      "$(document).ready(function(){\n",
      "\tvar svrGubun = \"real2\";\n",
      "\tif( svrGubun.indexOf(\"dr\") >= 0 ){\n",
      "\t\tfn_InitTitle(\"시간,회사명,공시제목,제출인\", \"true,true,true,true\");\n",
      "\t} else {\n",
      "\t\tfn_InitTitle(\"시간,회사명,공시제목,제출인,차트/주가\", \"true,true,true,true,false\");\n",
      "\t}\n",
      "\n",
      "\t$(\"input[name='segment']:radio\").change(function(){\n",
      "\t\tconsole.log(this.value);\n",
      "\t\t$(\"#searchForm > #kosdaqSegment\").val(this.value);\n",
      "\t\tfnSearch();\n",
      "\t});\n",
      "});\n",
      "</script>\n"
     ]
    }
   ],
   "source": [
    "# POST 방식의 예시\n",
    "# F12 > Network > 페이지에서 원하는 날짜 선택하고 조회 클릭 > 개발자 화면의 Network에 todaydiscolosure.do 항목 확인 가능\n",
    "# Headers에서 Request URL과 Post method 확인가능 > Payload에서 데이터 요청하는 내용 확인. \n",
    "\n",
    "import requests as rq\n",
    "from bs4 import BeautifulSoup\n",
    "import pandas as pd\n",
    "\n",
    "url = 'https://kind.krx.co.kr/disclosure/todaydisclosure.do'\n",
    "payload = {\n",
    "    'method': 'searchTodayDisclosureSub',\n",
    "    'currentPageSize': '15',\n",
    "    'pageIndex': '1',\n",
    "    'orderMode': '0',\n",
    "    'orderStat': 'D',\n",
    "    'forward': 'todaydisclosure_sub',\n",
    "    'chose': 'S',\n",
    "    'todayFlag': 'N',\n",
    "    'selDate': '2023-01-31'\n",
    "}\n",
    "\n",
    "data = rq.post(url, data=payload)\n",
    "html = BeautifulSoup(data.content, 'html.parser')\n",
    "print(html)"
   ]
  },
  {
   "cell_type": "code",
   "execution_count": 15,
   "metadata": {},
   "outputs": [
    {
     "name": "stderr",
     "output_type": "stream",
     "text": [
      "C:\\Users\\jh102\\AppData\\Local\\Temp\\ipykernel_24644\\2448921385.py:2: FutureWarning: Passing literal html to 'read_html' is deprecated and will be removed in a future version. To read from a literal string, wrap it in a 'StringIO' object.\n",
      "  tbl = pd.read_html(html.prettify())\n"
     ]
    },
    {
     "data": {
      "text/html": [
       "<div>\n",
       "<style scoped>\n",
       "    .dataframe tbody tr th:only-of-type {\n",
       "        vertical-align: middle;\n",
       "    }\n",
       "\n",
       "    .dataframe tbody tr th {\n",
       "        vertical-align: top;\n",
       "    }\n",
       "\n",
       "    .dataframe thead th {\n",
       "        text-align: right;\n",
       "    }\n",
       "</style>\n",
       "<table border=\"1\" class=\"dataframe\">\n",
       "  <thead>\n",
       "    <tr style=\"text-align: right;\">\n",
       "      <th></th>\n",
       "      <th>Unnamed: 0</th>\n",
       "      <th>Unnamed: 1</th>\n",
       "      <th>Unnamed: 2</th>\n",
       "      <th>Unnamed: 3</th>\n",
       "      <th>Unnamed: 4</th>\n",
       "    </tr>\n",
       "  </thead>\n",
       "  <tbody>\n",
       "    <tr>\n",
       "      <th>0</th>\n",
       "      <td>19:42</td>\n",
       "      <td>중앙첨단소재</td>\n",
       "      <td>최대주주 변경을 수반하는 주식 담보제공 계약 체결</td>\n",
       "      <td>중앙첨단소재</td>\n",
       "      <td>공시차트  주가차트</td>\n",
       "    </tr>\n",
       "    <tr>\n",
       "      <th>1</th>\n",
       "      <td>19:23</td>\n",
       "      <td>시스웍</td>\n",
       "      <td>횡령ㆍ배임혐의발생</td>\n",
       "      <td>시스웍</td>\n",
       "      <td>공시차트  주가차트</td>\n",
       "    </tr>\n",
       "    <tr>\n",
       "      <th>2</th>\n",
       "      <td>19:20</td>\n",
       "      <td>피에이치씨</td>\n",
       "      <td>횡령ㆍ배임혐의발생</td>\n",
       "      <td>피에이치씨</td>\n",
       "      <td>공시차트  주가차트</td>\n",
       "    </tr>\n",
       "    <tr>\n",
       "      <th>3</th>\n",
       "      <td>19:03</td>\n",
       "      <td>하나머티리얼즈</td>\n",
       "      <td>최대주주 변경을 수반하는 주식 담보제공 계약 체결</td>\n",
       "      <td>하나머티리얼즈</td>\n",
       "      <td>공시차트  주가차트</td>\n",
       "    </tr>\n",
       "    <tr>\n",
       "      <th>4</th>\n",
       "      <td>18:53</td>\n",
       "      <td>엔지스테크널러지</td>\n",
       "      <td>기타시장안내(감사의견 관련 형식적 상장폐지 사유해소 및 매매거래정지 지속안내)</td>\n",
       "      <td>코스닥시장본부</td>\n",
       "      <td>공시차트  주가차트</td>\n",
       "    </tr>\n",
       "  </tbody>\n",
       "</table>\n",
       "</div>"
      ],
      "text/plain": [
       "  Unnamed: 0 Unnamed: 1                                   Unnamed: 2  \\\n",
       "0      19:42     중앙첨단소재                  최대주주 변경을 수반하는 주식 담보제공 계약 체결   \n",
       "1      19:23        시스웍                                    횡령ㆍ배임혐의발생   \n",
       "2      19:20      피에이치씨                                    횡령ㆍ배임혐의발생   \n",
       "3      19:03    하나머티리얼즈                  최대주주 변경을 수반하는 주식 담보제공 계약 체결   \n",
       "4      18:53   엔지스테크널러지  기타시장안내(감사의견 관련 형식적 상장폐지 사유해소 및 매매거래정지 지속안내)   \n",
       "\n",
       "  Unnamed: 3  Unnamed: 4  \n",
       "0     중앙첨단소재  공시차트  주가차트  \n",
       "1        시스웍  공시차트  주가차트  \n",
       "2      피에이치씨  공시차트  주가차트  \n",
       "3    하나머티리얼즈  공시차트  주가차트  \n",
       "4    코스닥시장본부  공시차트  주가차트  "
      ]
     },
     "execution_count": 15,
     "metadata": {},
     "output_type": "execute_result"
    }
   ],
   "source": [
    "#html_unicode = html.prettify()\n",
    "tbl = pd.read_html(html.prettify())\n",
    "\n",
    "tbl[0].head() # list"
   ]
  },
  {
   "cell_type": "markdown",
   "metadata": {},
   "source": [
    "## 동적 크롤링\n",
    "- 웹페이지에서 클릭 등의 조작 시에 AJAX 호출이 발생하여 그 결과가 페이지의 일부분에만 반영.\n",
    "- 웹브라우저가 연결된 자바스크립트 코드를 실행하여 해당 매장의 상세 정보가 동일한 페이지에 표시.\n",
    "- 셀리니움을 이용하면 정적 크롤링은 물론 동적 크롤링도 가능하지만 속도가 느림.\n",
    "- 따라서 정적 크롤링을 할 시에는 selenium패키지 대신 requests패키지 사용."
   ]
  },
  {
   "cell_type": "code",
   "execution_count": 29,
   "metadata": {},
   "outputs": [
    {
     "name": "stdout",
     "output_type": "stream",
     "text": [
      "Requirement already satisfied: selenium in c:\\users\\jh102\\appdata\\local\\packages\\pythonsoftwarefoundation.python.3.11_qbz5n2kfra8p0\\localcache\\local-packages\\python311\\site-packages (4.12.0)\n",
      "Requirement already satisfied: urllib3[socks]<3,>=1.26 in c:\\users\\jh102\\appdata\\local\\packages\\pythonsoftwarefoundation.python.3.11_qbz5n2kfra8p0\\localcache\\local-packages\\python311\\site-packages (from selenium) (2.0.4)\n",
      "Requirement already satisfied: trio~=0.17 in c:\\users\\jh102\\appdata\\local\\packages\\pythonsoftwarefoundation.python.3.11_qbz5n2kfra8p0\\localcache\\local-packages\\python311\\site-packages (from selenium) (0.22.2)\n",
      "Requirement already satisfied: trio-websocket~=0.9 in c:\\users\\jh102\\appdata\\local\\packages\\pythonsoftwarefoundation.python.3.11_qbz5n2kfra8p0\\localcache\\local-packages\\python311\\site-packages (from selenium) (0.10.4)\n",
      "Requirement already satisfied: certifi>=2021.10.8 in c:\\users\\jh102\\appdata\\local\\packages\\pythonsoftwarefoundation.python.3.11_qbz5n2kfra8p0\\localcache\\local-packages\\python311\\site-packages (from selenium) (2023.7.22)\n",
      "Requirement already satisfied: attrs>=20.1.0 in c:\\users\\jh102\\appdata\\local\\packages\\pythonsoftwarefoundation.python.3.11_qbz5n2kfra8p0\\localcache\\local-packages\\python311\\site-packages (from trio~=0.17->selenium) (23.1.0)\n",
      "Requirement already satisfied: sortedcontainers in c:\\users\\jh102\\appdata\\local\\packages\\pythonsoftwarefoundation.python.3.11_qbz5n2kfra8p0\\localcache\\local-packages\\python311\\site-packages (from trio~=0.17->selenium) (2.4.0)\n",
      "Requirement already satisfied: idna in c:\\users\\jh102\\appdata\\local\\packages\\pythonsoftwarefoundation.python.3.11_qbz5n2kfra8p0\\localcache\\local-packages\\python311\\site-packages (from trio~=0.17->selenium) (3.4)\n",
      "Requirement already satisfied: outcome in c:\\users\\jh102\\appdata\\local\\packages\\pythonsoftwarefoundation.python.3.11_qbz5n2kfra8p0\\localcache\\local-packages\\python311\\site-packages (from trio~=0.17->selenium) (1.2.0)\n",
      "Requirement already satisfied: sniffio in c:\\users\\jh102\\appdata\\local\\packages\\pythonsoftwarefoundation.python.3.11_qbz5n2kfra8p0\\localcache\\local-packages\\python311\\site-packages (from trio~=0.17->selenium) (1.3.0)\n",
      "Requirement already satisfied: cffi>=1.14 in c:\\users\\jh102\\appdata\\local\\packages\\pythonsoftwarefoundation.python.3.11_qbz5n2kfra8p0\\localcache\\local-packages\\python311\\site-packages (from trio~=0.17->selenium) (1.15.1)\n",
      "Requirement already satisfied: exceptiongroup in c:\\users\\jh102\\appdata\\local\\packages\\pythonsoftwarefoundation.python.3.11_qbz5n2kfra8p0\\localcache\\local-packages\\python311\\site-packages (from trio-websocket~=0.9->selenium) (1.1.3)\n",
      "Requirement already satisfied: wsproto>=0.14 in c:\\users\\jh102\\appdata\\local\\packages\\pythonsoftwarefoundation.python.3.11_qbz5n2kfra8p0\\localcache\\local-packages\\python311\\site-packages (from trio-websocket~=0.9->selenium) (1.2.0)\n",
      "Requirement already satisfied: pysocks!=1.5.7,<2.0,>=1.5.6 in c:\\users\\jh102\\appdata\\local\\packages\\pythonsoftwarefoundation.python.3.11_qbz5n2kfra8p0\\localcache\\local-packages\\python311\\site-packages (from urllib3[socks]<3,>=1.26->selenium) (1.7.1)\n",
      "Requirement already satisfied: pycparser in c:\\users\\jh102\\appdata\\local\\packages\\pythonsoftwarefoundation.python.3.11_qbz5n2kfra8p0\\localcache\\local-packages\\python311\\site-packages (from cffi>=1.14->trio~=0.17->selenium) (2.21)\n",
      "Requirement already satisfied: h11<1,>=0.9.0 in c:\\users\\jh102\\appdata\\local\\packages\\pythonsoftwarefoundation.python.3.11_qbz5n2kfra8p0\\localcache\\local-packages\\python311\\site-packages (from wsproto>=0.14->trio-websocket~=0.9->selenium) (0.14.0)\n"
     ]
    },
    {
     "name": "stderr",
     "output_type": "stream",
     "text": [
      "\n",
      "[notice] A new release of pip is available: 23.2.1 -> 23.3.1\n",
      "[notice] To update, run: C:\\Users\\jh102\\AppData\\Local\\Microsoft\\WindowsApps\\PythonSoftwareFoundation.Python.3.11_qbz5n2kfra8p0\\python.exe -m pip install --upgrade pip\n"
     ]
    },
    {
     "name": "stdout",
     "output_type": "stream",
     "text": [
      "Collecting webdriver-manager\n",
      "  Obtaining dependency information for webdriver-manager from https://files.pythonhosted.org/packages/b1/51/b5c11cf739ac4eecde611794a0ec9df420d0239d51e73bc19eb44f02b48b/webdriver_manager-4.0.1-py2.py3-none-any.whl.metadata\n",
      "  Downloading webdriver_manager-4.0.1-py2.py3-none-any.whl.metadata (12 kB)\n",
      "Requirement already satisfied: requests in c:\\users\\jh102\\appdata\\local\\packages\\pythonsoftwarefoundation.python.3.11_qbz5n2kfra8p0\\localcache\\local-packages\\python311\\site-packages (from webdriver-manager) (2.31.0)\n",
      "Collecting python-dotenv (from webdriver-manager)\n",
      "  Downloading python_dotenv-1.0.0-py3-none-any.whl (19 kB)\n",
      "Requirement already satisfied: packaging in c:\\users\\jh102\\appdata\\local\\packages\\pythonsoftwarefoundation.python.3.11_qbz5n2kfra8p0\\localcache\\local-packages\\python311\\site-packages (from webdriver-manager) (23.0)\n",
      "Requirement already satisfied: charset-normalizer<4,>=2 in c:\\users\\jh102\\appdata\\local\\packages\\pythonsoftwarefoundation.python.3.11_qbz5n2kfra8p0\\localcache\\local-packages\\python311\\site-packages (from requests->webdriver-manager) (3.2.0)\n",
      "Requirement already satisfied: idna<4,>=2.5 in c:\\users\\jh102\\appdata\\local\\packages\\pythonsoftwarefoundation.python.3.11_qbz5n2kfra8p0\\localcache\\local-packages\\python311\\site-packages (from requests->webdriver-manager) (3.4)\n",
      "Requirement already satisfied: urllib3<3,>=1.21.1 in c:\\users\\jh102\\appdata\\local\\packages\\pythonsoftwarefoundation.python.3.11_qbz5n2kfra8p0\\localcache\\local-packages\\python311\\site-packages (from requests->webdriver-manager) (2.0.4)\n",
      "Requirement already satisfied: certifi>=2017.4.17 in c:\\users\\jh102\\appdata\\local\\packages\\pythonsoftwarefoundation.python.3.11_qbz5n2kfra8p0\\localcache\\local-packages\\python311\\site-packages (from requests->webdriver-manager) (2023.7.22)\n",
      "Downloading webdriver_manager-4.0.1-py2.py3-none-any.whl (27 kB)\n",
      "Installing collected packages: python-dotenv, webdriver-manager\n",
      "Successfully installed python-dotenv-1.0.0 webdriver-manager-4.0.1\n"
     ]
    },
    {
     "name": "stderr",
     "output_type": "stream",
     "text": [
      "\n",
      "[notice] A new release of pip is available: 23.2.1 -> 23.3.1\n",
      "[notice] To update, run: C:\\Users\\jh102\\AppData\\Local\\Microsoft\\WindowsApps\\PythonSoftwareFoundation.Python.3.11_qbz5n2kfra8p0\\python.exe -m pip install --upgrade pip\n"
     ]
    }
   ],
   "source": [
    "!pip install selenium\n",
    "!pip install webdriver-manager"
   ]
  },
  {
   "cell_type": "code",
   "execution_count": 37,
   "metadata": {},
   "outputs": [],
   "source": [
    "from selenium import webdriver\n",
    "from selenium.webdriver.chrome.service import Service\n",
    "from webdriver_manager.chrome import ChromeDriverManager\n",
    "from selenium.webdriver.common.by import By\n",
    "from selenium.webdriver.common.keys import Keys\n",
    "import time\n",
    "from bs4 import BeautifulSoup\n",
    "\n",
    "# 크롬 버전을 탐색하여, 버전에 맞는 웹드라이버를 다운로드하여 해당 경로를 셀레니움에 전달.\n",
    "driver = webdriver.Chrome(service=Service(ChromeDriverManager().install()))\n",
    "# 위의 코드 오류시에는 아래 코드 사용.\n",
    "# driver = webdriver.Chrome(ChromeDriverManager().install())\n",
    "# 이제 파이썬 코드를 통해 웹페이지를 조작할 수 있음."
   ]
  },
  {
   "cell_type": "code",
   "execution_count": 38,
   "metadata": {},
   "outputs": [
    {
     "data": {
      "text/plain": [
       "'html lang=\"ko\" class=\"fzoom\" data-dark=\"false\"><head><script async=\"\" type=\"text/javascript\" src=\"https://ssl.pstatic.net/tveta/libs/ndpsdk/prod/ndp-core.js\"></script> <meta charset=\"utf-8\"> <meta name=\"Referrer\" content=\"origin\"> <meta http-equiv=\"X-UA-Compatible\" content=\"IE=edge\"> <meta name=\"viewport\" content=\"width=1190\"> <title>NAVER</title> <meta name=\"apple-mobile-web-app-title\" content=\"NAVER\"> <meta name=\"robots\" content=\"index,nofollow\"> <meta name=\"description\" content=\"네이버 메인에서 다양한 정보와 유용한 컨텐츠를 만나 보세요\"> <meta property=\"og:title\" content=\"네이버\"> <meta property=\"og:url\" content=\"https://www.naver.com/\"> <meta property=\"og:image\" content=\"https://s.pstatic.net/static/www/mobile/edit/2016/0705/mobile_212852414260.png\"> <meta property=\"og:description\" content=\"네이버 메인에서 다양한 정보와 유용한 컨텐츠를 만나 보세요\"> <meta name=\"twitter:card\" content=\"summary\"> <meta name=\"twitter:title\" content=\"\"> <meta name=\"twitter:url\" content=\"https://www.naver.com/\"> <meta name=\"twitter:image\" content=\"https:/'"
      ]
     },
     "execution_count": 38,
     "metadata": {},
     "output_type": "execute_result"
    }
   ],
   "source": [
    "url = 'https://www.naver.com/'\n",
    "driver.get(url)\n",
    "driver.page_source[1:1000]"
   ]
  },
  {
   "cell_type": "code",
   "execution_count": 41,
   "metadata": {},
   "outputs": [],
   "source": [
    "driver.find_element(By.LINK_TEXT , value = '뉴스').click() # 링크가 달려있는 text로 접근 > 뉴스라는 단어가 있는 element로 접근 > click()"
   ]
  },
  {
   "cell_type": "code",
   "execution_count": 43,
   "metadata": {},
   "outputs": [],
   "source": [
    "driver.back() # 뒤로가기"
   ]
  },
  {
   "cell_type": "code",
   "execution_count": 44,
   "metadata": {},
   "outputs": [
    {
     "data": {
      "text/plain": [
       "'html lang=\"ko\" class=\"fzoom\" data-dark=\"false\"><head><script async=\"\" type=\"text/javascript\" src=\"https://ssl.pstatic.net/tveta/libs/ndpsdk/prod/ndp-core.js\"></script> <meta charset=\"utf-8\"> <meta name=\"Referrer\" content=\"origin\"> <meta http-equiv=\"X-UA-Compatible\" content=\"IE=edge\"> <meta name=\"viewport\" content=\"width=1190\"> <title>NAVER</title> <meta name=\"apple-mobile-web-app-title\" content=\"NAVER\"> <meta name=\"robots\" content=\"index,nofollow\"> <meta name=\"description\" content=\"네이버 메인에서 다양한 정보와 유용한 컨텐츠를 만나 보세요\"> <meta property=\"og:title\" content=\"네이버\"> <meta property=\"og:url\" content=\"https://www.naver.com/\"> <meta property=\"og:image\" content=\"https://s.pstatic.net/static/www/mobile/edit/2016/0705/mobile_212852414260.png\"> <meta property=\"og:description\" content=\"네이버 메인에서 다양한 정보와 유용한 컨텐츠를 만나 보세요\"> <meta name=\"twitter:card\" content=\"summary\"> <meta name=\"twitter:title\" content=\"\"> <meta name=\"twitter:url\" content=\"https://www.naver.com/\"> <meta name=\"twitter:image\" content=\"https:/'"
      ]
     },
     "execution_count": 44,
     "metadata": {},
     "output_type": "execute_result"
    }
   ],
   "source": [
    "driver = webdriver.Chrome(service=Service(ChromeDriverManager().install()))\n",
    "url = 'https://www.naver.com/'\n",
    "driver.get(url)\n",
    "driver.page_source[1:1000]"
   ]
  },
  {
   "cell_type": "code",
   "execution_count": 51,
   "metadata": {},
   "outputs": [],
   "source": [
    "driver.find_element(By.CLASS_NAME, value = 'search_input').send_keys('퀀트')"
   ]
  },
  {
   "cell_type": "code",
   "execution_count": 60,
   "metadata": {},
   "outputs": [],
   "source": [
    "driver.find_element(By.CLASS_NAME, value = 'btn_search').send_keys(Keys.ENTER)"
   ]
  },
  {
   "cell_type": "code",
   "execution_count": 61,
   "metadata": {},
   "outputs": [],
   "source": [
    "driver.find_element(By.CLASS_NAME, value = 'box_window').clear()\n",
    "driver.find_element(By.CLASS_NAME, value = 'box_window').send_keys('카이스트 퀀트')\n",
    "driver.find_element(By.CLASS_NAME, value = 'bt_search').click()"
   ]
  },
  {
   "cell_type": "markdown",
   "metadata": {},
   "source": [
    "### XPATH : HTML이나 XML 중 특정 값의 태그나 속성을 찾기 쉽게 만든 주소\n",
    " - 개발자 도구에서 해당 부분을 찾은 다음, 마우스 우클릭 > Copy > Copy Xpath"
   ]
  },
  {
   "cell_type": "code",
   "execution_count": 62,
   "metadata": {},
   "outputs": [],
   "source": [
    "driver.find_element(By.XPATH, value = '//*[@id=\"lnb\"]/div[1]/div/div[1]/div/div[1]/div[1]/a').click()"
   ]
  },
  {
   "cell_type": "code",
   "execution_count": 63,
   "metadata": {},
   "outputs": [],
   "source": [
    "# 스크롤 아래로 내리기.\n",
    "driver.execute_script('window.scrollTo(0, document.body.scrollHeight);')\n",
    "# driver.find_element(By.TAG_NAME, value = 'body').send_keys(Keys.PAGE_DOWN)"
   ]
  },
  {
   "cell_type": "code",
   "execution_count": 65,
   "metadata": {},
   "outputs": [],
   "source": [
    "prev_height = driver.execute_script('return document.body.scrollHeight')\n",
    "\n",
    "while True:\n",
    "    driver.execute_script('window.scrollTo(0, document.body.scrollHeight);')\n",
    "    time.sleep(2)\n",
    "    \n",
    "    curr_height = driver.execute_script('return document.body.scrollHeight')\n",
    "    if curr_height == prev_height:\n",
    "        break\n",
    "    prev_height = curr_height"
   ]
  },
  {
   "cell_type": "code",
   "execution_count": 67,
   "metadata": {},
   "outputs": [
    {
     "data": {
      "text/plain": [
       "[' [카이스트]연봉 1억 퀀트가 되기 위한 카이스트 금융공학 대학원을 가려면 무엇을 준비해야할까요? ',\n",
       " ' 퀀트투자 머신러닝으로 데이터를 분석하는 퀸트 주식 투자 프로그램 ',\n",
       " ' [서평] 파이썬을 이용한 퀀트 투자 포트폴리오 만들기 / 이현열 / 제이펍 ',\n",
       " ' #퀀트 ',\n",
       " ' 카이스트 금공 대학원 문과 진학 ',\n",
       " ' 실무 경험으로 취준 다지기 ㅣ퀀트 프로젝토링 3기 수강생 ',\n",
       " ' 카이스트 경영공학부 겸직교수에 임용되었습니다 ',\n",
       " ' 인간지능 vs 인공지능 2023 (CFA 한국협회 투자포럼) ',\n",
       " ' 세계에서 가장 빠른 AI 반도체 칩 선보인 박성현 리벨리온 대표 ',\n",
       " ' 퀀트 유명간 애널 ']"
      ]
     },
     "execution_count": 67,
     "metadata": {},
     "output_type": "execute_result"
    }
   ],
   "source": [
    "html = BeautifulSoup(driver.page_source, 'lxml')\n",
    "txt = html.find_all(class_ = 'title_area')\n",
    "txt_list = [i.get_text() for i in txt]\n",
    "\n",
    "txt_list[0:10]"
   ]
  },
  {
   "cell_type": "code",
   "execution_count": 68,
   "metadata": {},
   "outputs": [],
   "source": [
    "# 크롬 웹페이지 종료.\n",
    "driver.quit()"
   ]
  },
  {
   "cell_type": "markdown",
   "metadata": {},
   "source": [
    "### 셀레니움 명령어 정리\n",
    "\n",
    "#### 브라우저 관련\n",
    "- webdriver.Chrome(): 브라우저 열기\n",
    "- driver.close(): 현재 탭 닫기\n",
    "- driver.quit(): 브라우저 닫기\n",
    "- driver.back(): 뒤로 가기\n",
    "- driver.forward(): 앞으로 가기\n",
    "\n",
    "#### Element 접근\n",
    "- By.ID: 태그의 ID 값으로 추출\n",
    "- By.NAME: 태그의 NAME 값으로 추출\n",
    "- By.XPATH: 태그의 XPATH 값으로 추출\n",
    "- By.LINK_TEXT: 링크에 존재하는 텍스트로 추출\n",
    "- By.TAG_NAME: 태그명으로 추출\n",
    "- By.CLASS_NAME: 태그의 클래스명으로 추출\n",
    "- By.CSS_SELECTOR: CSS 선택자로 추출\n",
    "\n",
    "#### 동작\n",
    "- click(): 엘레먼트를 클릭\n",
    "- clear(): 텍스트 삭제\n",
    "- send_keys(text): 텍스트 입력\n",
    "- send_keys(Keys.CONTROL + 'v'): 컨트롤 + v 누르기\n",
    "\n",
    "#### 자바 스크립트 코드 실행\n",
    "- execute_script()\n",
    "- https://selenium-python.readthedocs.io/\n",
    "\n",
    "** 출처: 파이썬을 활용한 퀀트투자 포트폴리오 만들기 (이현열) **"
   ]
  },
  {
   "cell_type": "markdown",
   "metadata": {},
   "source": [
    "### 정규 표현식 (Regex: Regular expression)"
   ]
  },
  {
   "cell_type": "code",
   "execution_count": 1,
   "metadata": {},
   "outputs": [
    {
     "data": {
      "text/plain": [
       "['29.2%']"
      ]
     },
     "execution_count": 1,
     "metadata": {},
     "output_type": "execute_result"
    }
   ],
   "source": [
    "import re\n",
    "\n",
    "data = '동 기업의 매출액은 전년 대비 29.2% 늘어났습니다.'\n",
    "re.findall('\\d+.\\d+%', data)"
   ]
  },
  {
   "cell_type": "markdown",
   "metadata": {},
   "source": [
    "#### 메타 문자\n",
    "- (Meta Characters)\n",
    "- . ^ $ * + ? { } [ ] \\ | ( )"
   ]
  },
  {
   "cell_type": "markdown",
   "metadata": {},
   "source": [
    "#### 문자 클래스([ ])\n",
    "\n",
    "- [] : 대괄호 안에 포함된 문자들 중 하나와 매치\n",
    "- [-] : 두 문자 사이의 범위 (ex: [a-e] = [abcde], [0-5] = [012345])\n",
    "- [a-z]는 알파벳 소문자, [A-Z]는 알파벳 대문자, [a-zA-Z]는 모든 알파벳, [0-9]는 모든 숫자.\n",
    "- [^0-9]는 숫자를 제외한 문자만 매치, [^abc]는 a,b,c를 제외한 모든 문자와 매치.\n",
    "\n",
    "\n",
    "*** 출처: HenryQuant Github ***\n",
    "\n",
    "- | \\d | 숫자와 매치, [0-9]와 동일한 표현식 |\n",
    "- | \\D | 숫자가 아닌 것 매치, [^0-9]와 동일한 표현식 |\n",
    "- | \\s | whitespace(공백) 문자와 매치, [ \\t\\n\\r\\f\\v]와 동일한 표현식 |\n",
    "- | \\S | whitespace 문자가 아닌 것과 매치, [^\\t\\n\\r\\f\\v]와 동일한 표현식 |\n",
    "- | \\w | 문자+숫자(alphanumeric)와 매치, [a-zA-Z0-9]와 동일한 표현식 |\n",
    "- | \\W | 문자+숫자(alphanumeric)가 아닌 문자와 매치, [^a-zA-Z0-9]와 동일한 표현식 |"
   ]
  },
  {
   "cell_type": "markdown",
   "metadata": {},
   "source": [
    "#### 모든 문자(.)\n",
    "- Dot(.) 메타 문자는 줄바꿈 문자인 \\n을 제외한 모든 문자와 매치.\n",
    "- a.e 의 경우 a와 e사이에 어떤 문자가 들어가도 모두 매치.\n",
    "\n",
    "#### 반복문 *, +, {}, ?\n",
    "- ca*t 라는 정규식은 'ct', 'cat', 'caat' ,'caaaat' 와 모두 매치.\n",
    "- 이때, * 대신 +를 사용할 경우 a가 한번 이상은 반복되어야 함. 즉 ct는 매치되지 않음.\n",
    "- 메타문자 { }를 사용하면 반복 횟수를 고정. 즉 {m, n}은 반복 횟수가 m부터 n까지 고정.\n",
    "- {3, }의 경우 반복 횟수가 3 이상, {, 3}의 경우 반복 횟수가 3 이하를 의미.\n",
    "- 메타문자 ?는 {0, 1}과 동일. 즉 ? 앞의 문자가 있어도 되고 없어도 된다는 의미."
   ]
  },
  {
   "cell_type": "markdown",
   "metadata": {},
   "source": [
    "#### 기타 메타문자\n",
    "\n",
    "- |: or과 동일한 의미. 즉 expr1 | expr2라는 정규식은 expr1 혹은 expr2 라는 의미.\n",
    "- ^: 문자열의 맨 처음과 일치함을 의미. 즉 ^a 정규식은 a로 시작하는 단어와 매치.\n",
    "- \\$: ^와 반대의 의미로써, 문자열의 끝과 매치함을 의미. 즉, a$는 a로 끝나는 단어와 매치.\n",
    "- \\\\: 메타문자의 성질을 없앰. 즉 \\^이나 \\$ 문자를 메타문자가 아닌 문자 그 자체로 매치하고 싶은 경우 \\\\^, \\\\$의 형태로 사용.\n",
    "- (): 괄호안의 문자열을 하나로 묶어 취급."
   ]
  },
  {
   "cell_type": "markdown",
   "metadata": {},
   "source": [
    "#### 정규 표현식과 관련된 메서드\n",
    "- match(): 시작부분부터 일치하는 패턴 찾기\n",
    "- search(): 첫 번째 일치하는 패턴 찾기.\n",
    "- findall(): 일치하는 모든 패턴을 찾기.\n",
    "- finditer(): findall()과 동일하지만 그 결과로 반복 가능한 객체를 반환."
   ]
  },
  {
   "cell_type": "markdown",
   "metadata": {},
   "source": [
    "##### match()"
   ]
  },
  {
   "cell_type": "code",
   "execution_count": 2,
   "metadata": {},
   "outputs": [
    {
     "data": {
      "text/plain": [
       "re.Pattern"
      ]
     },
     "execution_count": 2,
     "metadata": {},
     "output_type": "execute_result"
    }
   ],
   "source": [
    "import re\n",
    "\n",
    "p = re.compile('[a-z]+')\n",
    "type(p)"
   ]
  },
  {
   "cell_type": "code",
   "execution_count": 3,
   "metadata": {},
   "outputs": [
    {
     "name": "stdout",
     "output_type": "stream",
     "text": [
      "<re.Match object; span=(0, 6), match='python'>\n"
     ]
    }
   ],
   "source": [
    "m = p.match('python')\n",
    "print(m)"
   ]
  },
  {
   "cell_type": "code",
   "execution_count": 4,
   "metadata": {},
   "outputs": [
    {
     "data": {
      "text/plain": [
       "'python'"
      ]
     },
     "execution_count": 4,
     "metadata": {},
     "output_type": "execute_result"
    }
   ],
   "source": [
    "m.group()"
   ]
  },
  {
   "cell_type": "code",
   "execution_count": 5,
   "metadata": {},
   "outputs": [
    {
     "name": "stdout",
     "output_type": "stream",
     "text": [
      "None\n"
     ]
    }
   ],
   "source": [
    "m = p.match('Use python') #대문자, 시작부분 매치X\n",
    "print(m)"
   ]
  },
  {
   "cell_type": "code",
   "execution_count": 6,
   "metadata": {},
   "outputs": [
    {
     "name": "stdout",
     "output_type": "stream",
     "text": [
      "None\n"
     ]
    }
   ],
   "source": [
    "m = p.match('PYTHON')\n",
    "print(m)"
   ]
  },
  {
   "cell_type": "code",
   "execution_count": 7,
   "metadata": {},
   "outputs": [
    {
     "name": "stdout",
     "output_type": "stream",
     "text": [
      "<re.Match object; span=(0, 3), match='파이썬'>\n"
     ]
    }
   ],
   "source": [
    "p = re.compile('[가-힣]+')\n",
    "m = p.match('파이썬')\n",
    "print(m)"
   ]
  },
  {
   "cell_type": "markdown",
   "metadata": {},
   "source": [
    "##### search()"
   ]
  },
  {
   "cell_type": "code",
   "execution_count": 8,
   "metadata": {},
   "outputs": [
    {
     "name": "stdout",
     "output_type": "stream",
     "text": [
      "<re.Match object; span=(0, 6), match='python'>\n"
     ]
    }
   ],
   "source": [
    "p = re.compile('[a-z]+')\n",
    "m = p.search('python')\n",
    "print(m)"
   ]
  },
  {
   "cell_type": "code",
   "execution_count": 9,
   "metadata": {},
   "outputs": [
    {
     "name": "stdout",
     "output_type": "stream",
     "text": [
      "<re.Match object; span=(1, 3), match='se'>\n"
     ]
    }
   ],
   "source": [
    "m = p.search('Use python')\n",
    "print(m)"
   ]
  },
  {
   "cell_type": "markdown",
   "metadata": {},
   "source": [
    "##### findall()"
   ]
  },
  {
   "cell_type": "code",
   "execution_count": 10,
   "metadata": {},
   "outputs": [
    {
     "name": "stdout",
     "output_type": "stream",
     "text": [
      "['Life', 'is', 'too', 'short', 'You', 'need', 'Python']\n"
     ]
    }
   ],
   "source": [
    "p = re.compile('[a-zA-Z]+')\n",
    "m = p.findall('Life is too short, You need Python.')\n",
    "print(m)"
   ]
  },
  {
   "cell_type": "markdown",
   "metadata": {},
   "source": [
    "##### finditer()"
   ]
  },
  {
   "cell_type": "code",
   "execution_count": 11,
   "metadata": {},
   "outputs": [
    {
     "name": "stdout",
     "output_type": "stream",
     "text": [
      "<callable_iterator object at 0x00000147B65A2170>\n"
     ]
    }
   ],
   "source": [
    "p = re.compile('[a-zA-Z]+')\n",
    "m = p.finditer('Life is too short, You need Python.')\n",
    "print(m)"
   ]
  },
  {
   "cell_type": "code",
   "execution_count": 12,
   "metadata": {},
   "outputs": [
    {
     "name": "stdout",
     "output_type": "stream",
     "text": [
      "<re.Match object; span=(0, 4), match='Life'>\n",
      "<re.Match object; span=(5, 7), match='is'>\n",
      "<re.Match object; span=(8, 11), match='too'>\n",
      "<re.Match object; span=(12, 17), match='short'>\n",
      "<re.Match object; span=(19, 22), match='You'>\n",
      "<re.Match object; span=(23, 27), match='need'>\n",
      "<re.Match object; span=(28, 34), match='Python'>\n"
     ]
    }
   ],
   "source": [
    "for i in m:\n",
    "    print(i)"
   ]
  },
  {
   "cell_type": "code",
   "execution_count": 17,
   "metadata": {},
   "outputs": [],
   "source": [
    "num = \"\"\"r\\n\\t\\t\\t\\t\\t\\t\\t\\r\\n\\t\\t\\t\\t\\t\\t\\t\\t15\\r\\n\\t\\t\\t\\t\n",
    "\\t\\t\\t\\t23\\r\\n\\t\\t\\t\\t\\t\\t\\t\\t29\\r\\n\\t\\t\\t\\t\\t\\t\\t\\t34\\r\\n\\t\\t\\t\\t\\t\\t\\t\\t40\\r\\n\\t\\t\\t\\t\\t\\t\\t\\t44\\r\\n\\t\\t\\t\\t\\t\\t\\t\\r\\n\\t\\t\\t\\t\\t\\t\"\"\""
   ]
  },
  {
   "cell_type": "code",
   "execution_count": 19,
   "metadata": {},
   "outputs": [
    {
     "name": "stdout",
     "output_type": "stream",
     "text": [
      "['15', '23', '29', '34', '40', '44']\n"
     ]
    }
   ],
   "source": [
    "import re\n",
    "\n",
    "p = re.compile('[0-9]+')\n",
    "m = p.findall(num)\n",
    "print(m)"
   ]
  },
  {
   "cell_type": "code",
   "execution_count": 20,
   "metadata": {},
   "outputs": [],
   "source": [
    "dt = '> 오늘의 날짜는 2022.12.31 입니다.'"
   ]
  },
  {
   "cell_type": "code",
   "execution_count": 21,
   "metadata": {},
   "outputs": [
    {
     "data": {
      "text/plain": [
       "['2022.12.31']"
      ]
     },
     "execution_count": 21,
     "metadata": {},
     "output_type": "execute_result"
    }
   ],
   "source": [
    "p = re.compile('[0-9]+.[0-9]+.[0-9]+')\n",
    "p.findall(dt)"
   ]
  },
  {
   "cell_type": "code",
   "execution_count": 22,
   "metadata": {},
   "outputs": [
    {
     "name": "stdout",
     "output_type": "stream",
     "text": [
      "['2022', '12', '31']\n"
     ]
    }
   ],
   "source": [
    "p = re.compile('[0-9]+')\n",
    "m = p.findall(dt)\n",
    "print(m)"
   ]
  },
  {
   "cell_type": "code",
   "execution_count": 23,
   "metadata": {},
   "outputs": [
    {
     "data": {
      "text/plain": [
       "'20221231'"
      ]
     },
     "execution_count": 23,
     "metadata": {},
     "output_type": "execute_result"
    }
   ],
   "source": [
    "''.join(m)"
   ]
  },
  {
   "cell_type": "markdown",
   "metadata": {},
   "source": [
    "##### 정규표현식 테스트\n",
    "- https://regexr.com\n",
    "- https://regex101.com"
   ]
  }
 ],
 "metadata": {
  "kernelspec": {
   "display_name": "Python 3",
   "language": "python",
   "name": "python3"
  },
  "language_info": {
   "codemirror_mode": {
    "name": "ipython",
    "version": 3
   },
   "file_extension": ".py",
   "mimetype": "text/x-python",
   "name": "python",
   "nbconvert_exporter": "python",
   "pygments_lexer": "ipython3",
   "version": "3.11.6"
  }
 },
 "nbformat": 4,
 "nbformat_minor": 2
}
